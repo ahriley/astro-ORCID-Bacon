{
 "cells": [
  {
   "cell_type": "code",
   "execution_count": 1,
   "metadata": {
    "collapsed": true
   },
   "outputs": [],
   "source": [
    "import ads as ads\n",
    "import numpy as np"
   ]
  },
  {
   "cell_type": "code",
   "execution_count": 2,
   "metadata": {
    "collapsed": true
   },
   "outputs": [],
   "source": [
    "ads.config.token = 'hHGi5PIdvS4KJI4CXb0GWTLdyu3p0mtZRp8ihcX3'"
   ]
  },
  {
   "cell_type": "code",
   "execution_count": 36,
   "metadata": {
    "collapsed": false
   },
   "outputs": [],
   "source": [
    "papers = list(ads.SearchQuery(q='orcid_pub:0000-0003-4797-7030 or ', fl=['bibcode', 'orcid_pub']))"
   ]
  },
  {
   "cell_type": "code",
   "execution_count": 37,
   "metadata": {
    "collapsed": false
   },
   "outputs": [
    {
     "name": "stdout",
     "output_type": "stream",
     "text": [
      "2018ApJS..234....2P\n",
      "['Peek, J. E. G.', 'Babler, Brian L.', 'Zheng, Yong', 'Clark, S. E.', 'Douglas, Kevin A.', 'Korpela, Eric J.', 'Putman, M. E.', 'Stanimirović, Snežana', 'Gibson, Steven J.', 'Heiles, Carl']\n",
      "2017ApJ...847..136B\n",
      "['Brown, Michael J. I.', 'Moustakas, John', 'Kennicutt, Robert C.', 'Bonne, Nicolas J.', 'Intema, Huib T.', 'de Gasperin, Francesco', 'Boquien, Mederic', 'Jarrett, T. H.', 'Cluver, Michelle E.', 'Smith, J. -D. T.', 'da Cunha, Elisabete', 'Imanishi, Masatoshi', 'Armus, Lee', 'Brandl, Bernhard R.', 'Peek, J. E. G.']\n",
      "2017ApJ...840...65Z\n",
      "['Zheng, Y.', 'Werk, J. K.', 'Peek, J. E. G.', 'Putman, M. E.']\n",
      "2017ApJ...838...36S\n",
      "['Schlafly, E. F.', 'Peek, J. E. G.', 'Finkbeiner, D. P.', 'Green, G. M.']\n",
      "2017ApJ...834..179Z\n",
      "['Zheng, Y.', 'Peek, J. E. G.', 'Werk, J. K.', 'Putman, M. E.']\n",
      "2017AJ....153....8T\n",
      "['Tchernyshyov, Kirill', 'Peek, J. E. G.']\n",
      "2016ApJ...828L..20P\n",
      "['Peek, J. E. G.', 'Bordoloi, Rongmon', 'Sana, Hugues', 'Roman-Duval, Julia', 'Tumlinson, Jason', 'Zheng, Yong']\n",
      "2016ApJ...827L..27P\n",
      "['Park, Geumsook', 'Koo, Bon-Chul', 'Kang, Ji-hyun', 'Gibson, Steven J.', 'Peek, J. E. G.', 'Douglas, Kevin A.', 'Korpela, Eric J.', 'Heiles, Carl E.']\n",
      "2016ApJ...821...78S\n",
      "['Schlafly, E. F.', 'Meisner, A. M.', 'Stutz, A. M.', 'Kainulainen, J.', 'Peek, J. E. G.', 'Tchernyshyov, K.', 'Rix, H. -W.', 'Finkbeiner, D. P.', 'Covey, K. R.', 'Green, G. M.', 'Bell, E. F.', 'Burgett, W. S.', 'Chambers, K. C.', 'Draper, P. W.', 'Flewelling, H.', 'Hodapp, K. W.', 'Kaiser, N.', 'Magnier, E. A.', 'Martin, N. F.', 'Metcalfe, N.', 'Wainscoat, R. J.', 'Waters, C.']\n",
      "2015ApJ...813....7P\n",
      "['Peek, J. E. G.', 'Ménard, Brice', 'Corrales, Lia']\n",
      "2015ApJ...810..170S\n",
      "['Saul, Destry R.', 'Peek, J. E. G.', 'Grcevich, J.', 'Putman, M. E.', 'Douglas, K. A.', 'Korpela, E. J.', 'Stanimirović, S.', 'Heiles, C.', 'Gibson, S. J.', 'Lee, M.', 'Begum, A.', 'Brown, A. R. H.', 'Burkhart, B.', 'Hamden, E. T.', 'Pingel, N. M.', 'Tonnesen, S.']\n",
      "2015ApJ...808..136D\n",
      "['Donovan Meyer, Jennifer', 'Peek, J. E. G.', 'Putman, Mary', 'Grcevich, Jana']\n"
     ]
    }
   ],
   "source": [
    "for p in papers:\n",
    "    bc = p.bibcode\n",
    "    print(bc)\n",
    "    pauth = list(ads.SearchQuery(q='bibcode:' + bc, fl=['author', 'orcid_pub', 'orcid_user', 'orcid_other']))\n",
    "    print(pauth[0].author)"
   ]
  },
  {
   "cell_type": "code",
   "execution_count": null,
   "metadata": {
    "collapsed": true
   },
   "outputs": [],
   "source": [
    "bit.ly/2Fw57BV"
   ]
  },
  {
   "cell_type": "code",
   "execution_count": 35,
   "metadata": {
    "collapsed": false
   },
   "outputs": [
    {
     "data": {
      "text/plain": [
       "1"
      ]
     },
     "execution_count": 35,
     "metadata": {},
     "output_type": "execute_result"
    }
   ],
   "source": [
    "len(papers)"
   ]
  },
  {
   "cell_type": "code",
   "execution_count": null,
   "metadata": {
    "collapsed": true
   },
   "outputs": [],
   "source": []
  }
 ],
 "metadata": {
  "kernelspec": {
   "display_name": "Python [Root]",
   "language": "python",
   "name": "Python [Root]"
  },
  "language_info": {
   "codemirror_mode": {
    "name": "ipython",
    "version": 3
   },
   "file_extension": ".py",
   "mimetype": "text/x-python",
   "name": "python",
   "nbconvert_exporter": "python",
   "pygments_lexer": "ipython3",
   "version": "3.5.2"
  }
 },
 "nbformat": 4,
 "nbformat_minor": 0
}
