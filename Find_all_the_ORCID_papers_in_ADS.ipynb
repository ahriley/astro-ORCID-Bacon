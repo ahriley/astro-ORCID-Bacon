{
 "cells": [
  {
   "cell_type": "code",
   "execution_count": 58,
   "metadata": {
    "collapsed": false
   },
   "outputs": [],
   "source": [
    "import ads as ads\n",
    "import numpy as np\n",
    "#ads.__version__"
   ]
  },
  {
   "cell_type": "code",
   "execution_count": 18,
   "metadata": {
    "collapsed": false
   },
   "outputs": [
    {
     "name": "stdout",
     "output_type": "stream",
     "text": [
      "hHGi5PIdvS4KJI4CXb0GWTLdyu3p0mtZRp8ihcX3\n"
     ]
    }
   ],
   "source": [
    "#ads.config.token = 'EjPL7rxRLCMHTrsRcKUjS4ojnQwkIOZUKQuw5jyJ'\n",
    "ads.config.token = 'hHGi5PIdvS4KJI4CXb0GWTLdyu3p0mtZRp8ihcX3'\n",
    "print(ads.config.token)"
   ]
  },
  {
   "cell_type": "code",
   "execution_count": 67,
   "metadata": {
    "collapsed": false
   },
   "outputs": [
    {
     "name": "stdout",
     "output_type": "stream",
     "text": [
      "2000\n",
      "2000\n",
      "2000\n",
      "2000\n",
      "2000\n",
      "2000\n",
      "2000\n",
      "2000\n",
      "779\n"
     ]
    }
   ],
   "source": [
    "q = 0\n",
    "allpapers = list([])\n",
    "papers = np.arange(2000)\n",
    "while len(papers) == 2000:\n",
    "    papers = list(ads.SearchQuery(q='orcid_pub:000* database:astronomy', rows=2000, start=q, fl=['bibcode', 'orcid_pub']))\n",
    "    q += 2000\n",
    "    allpapers.append(papers)\n",
    "    print(len(papers))"
   ]
  },
  {
   "cell_type": "code",
   "execution_count": 69,
   "metadata": {
    "collapsed": false
   },
   "outputs": [],
   "source": [
    "flat_list = [item for sublist in allpapers for item in sublist]"
   ]
  },
  {
   "cell_type": "code",
   "execution_count": 70,
   "metadata": {
    "collapsed": false
   },
   "outputs": [
    {
     "data": {
      "text/plain": [
       "16779"
      ]
     },
     "execution_count": 70,
     "metadata": {},
     "output_type": "execute_result"
    }
   ],
   "source": [
    "len(flat_list)"
   ]
  },
  {
   "cell_type": "code",
   "execution_count": 72,
   "metadata": {
    "collapsed": true
   },
   "outputs": [],
   "source": [
    "all_astro_orcid_papers = np.asarray(flat_list)"
   ]
  },
  {
   "cell_type": "code",
   "execution_count": 73,
   "metadata": {
    "collapsed": true
   },
   "outputs": [],
   "source": [
    "np.save('all_astro_orcid_papers.npy', all_astro_orcid_papers)"
   ]
  }
 ],
 "metadata": {
  "anaconda-cloud": {},
  "kernelspec": {
   "display_name": "Python [Root]",
   "language": "python",
   "name": "Python [Root]"
  },
  "language_info": {
   "codemirror_mode": {
    "name": "ipython",
    "version": 3
   },
   "file_extension": ".py",
   "mimetype": "text/x-python",
   "name": "python",
   "nbconvert_exporter": "python",
   "pygments_lexer": "ipython3",
   "version": "3.5.2"
  }
 },
 "nbformat": 4,
 "nbformat_minor": 0
}
