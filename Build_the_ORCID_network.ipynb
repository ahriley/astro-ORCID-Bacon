{
 "cells": [
  {
   "cell_type": "code",
   "execution_count": 1,
   "metadata": {
    "collapsed": false
   },
   "outputs": [],
   "source": [
    "import networkx as nx\n",
    "import numpy as np\n",
    "import matplotlib.pyplot as plt\n",
    "import pickle\n",
    "%matplotlib inline"
   ]
  },
  {
   "cell_type": "code",
   "execution_count": 2,
   "metadata": {
    "collapsed": false
   },
   "outputs": [],
   "source": [
    "path = '/Users/jegpeek/'\n",
    "orcid_data = np.load(path + 'all_astro_orcid_papers.npy')"
   ]
  },
  {
   "cell_type": "code",
   "execution_count": 3,
   "metadata": {
    "collapsed": false
   },
   "outputs": [],
   "source": [
    "bfl = []\n",
    "for od in orcid_data:\n",
    "    bfl.append(od.orcid_pub[:])\n",
    "allorcids = [item for sublist in bfl for item in sublist]"
   ]
  },
  {
   "cell_type": "code",
   "execution_count": 4,
   "metadata": {
    "collapsed": false
   },
   "outputs": [],
   "source": [
    "alluorcids = (np.unique(allorcids))[1:]"
   ]
  },
  {
   "cell_type": "code",
   "execution_count": 5,
   "metadata": {
    "collapsed": false
   },
   "outputs": [
    {
     "data": {
      "text/plain": [
       "12842"
      ]
     },
     "execution_count": 5,
     "metadata": {},
     "output_type": "execute_result"
    }
   ],
   "source": [
    "len(alluorcids)"
   ]
  },
  {
   "cell_type": "code",
   "execution_count": 6,
   "metadata": {
    "collapsed": true
   },
   "outputs": [],
   "source": [
    "# this is if we want a network with lonely nodes\n",
    "G = nx.Graph()\n",
    "for orcid in alluorcids:\n",
    "    G.add_node(orcid)"
   ]
  },
  {
   "cell_type": "code",
   "execution_count": 7,
   "metadata": {
    "collapsed": false
   },
   "outputs": [],
   "source": [
    "G = nx.Graph()\n",
    "for paper in orcid_data:\n",
    "    good_list = []\n",
    "    for e in paper.orcid_pub:\n",
    "        if e != '-':\n",
    "            good_list.append(e)\n",
    "    if len(good_list) > 1:\n",
    "        # This is if we want a network with no lonely nodes\n",
    "        for author1 in good_list:\n",
    "            G.add_node(author1)\n",
    "        for i, author1 in enumerate(good_list):\n",
    "            #print(good_list)\n",
    "            for author2 in good_list[i+1:]:\n",
    "                if author2 not in G[author1]:\n",
    "                    G.add_edge(author1, author2)\n",
    "        #if i == 3:\n",
    "        #    1/0\n",
    "                #G.add_edge(author1, author2)\n",
    "        #print(len(good_list))"
   ]
  },
  {
   "cell_type": "code",
   "execution_count": null,
   "metadata": {
    "collapsed": false
   },
   "outputs": [],
   "source": [
    "with open('ORCID_graph.pkl', 'wb') as f:\n",
    "    pickle.dump(G, f)"
   ]
  },
  {
   "cell_type": "code",
   "execution_count": null,
   "metadata": {
    "collapsed": true
   },
   "outputs": [],
   "source": [
    "nx.drawing.nx_agraph.write_dot(G, 'write_dot_G')"
   ]
  },
  {
   "cell_type": "code",
   "execution_count": null,
   "metadata": {
    "collapsed": false
   },
   "outputs": [],
   "source": [
    "!dot write_dot_G"
   ]
  },
  {
   "cell_type": "code",
   "execution_count": 8,
   "metadata": {
    "collapsed": true
   },
   "outputs": [],
   "source": [
    "clcent = nx.closeness_centrality(G)"
   ]
  },
  {
   "cell_type": "code",
   "execution_count": 19,
   "metadata": {
    "collapsed": false
   },
   "outputs": [
    {
     "name": "stdout",
     "output_type": "stream",
     "text": [
      "['0000-0002-0167-2453' '0000-0003-2686-9241' '0000-0003-4996-9069' ...,\n",
      " '0000-0002-1722-5463' '0000-0002-2320-7608' '0000-0001-7101-9831']\n",
      "[  2.80824211e-01   2.79894290e-01   2.79716165e-01 ...,   1.01461039e-04\n",
      "   1.01461039e-04   0.00000000e+00]\n"
     ]
    }
   ],
   "source": [
    "sorti = np.argsort(list(clcent.values()))[::-1]\n",
    "print(np.array(list(clcent.keys()))[sorti])\n",
    "print(np.array(list(clcent.values()))[sorti])\n",
    "\n"
   ]
  },
  {
   "cell_type": "code",
   "execution_count": null,
   "metadata": {
    "collapsed": true
   },
   "outputs": [],
   "source": []
  }
 ],
 "metadata": {
  "anaconda-cloud": {},
  "kernelspec": {
   "display_name": "Python [Root]",
   "language": "python",
   "name": "Python [Root]"
  },
  "language_info": {
   "codemirror_mode": {
    "name": "ipython",
    "version": 3
   },
   "file_extension": ".py",
   "mimetype": "text/x-python",
   "name": "python",
   "nbconvert_exporter": "python",
   "pygments_lexer": "ipython3",
   "version": "3.5.2"
  }
 },
 "nbformat": 4,
 "nbformat_minor": 0
}
